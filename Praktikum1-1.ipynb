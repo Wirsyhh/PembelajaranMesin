{
 "cells": [
  {
   "cell_type": "markdown",
   "id": "00b59d6b-7490-42aa-9403-ab866dd7c32e",
   "metadata": {},
   "source": [
    "## Nama : Mochammad Wirangga Syahputra "
   ]
  },
  {
   "cell_type": "code",
   "execution_count": null,
   "id": "0c05d134-bf48-46b8-b162-5589ef690af7",
   "metadata": {},
   "outputs": [],
   "source": []
  },
  {
   "cell_type": "code",
   "execution_count": 1,
   "id": "42bad28c-5ae1-481a-baca-7a0741c7732f",
   "metadata": {},
   "outputs": [],
   "source": [
    "#IMPORT LIBRARY\n",
    "import numpy as np\n",
    "import pandas as pd\n",
    "import matplotlib.pyplot as plt\n",
    "import seaborn as sns"
   ]
  },
  {
   "cell_type": "code",
   "execution_count": 3,
   "id": "05a70ea1-0a8f-4262-b035-50c12c1f98b7",
   "metadata": {},
   "outputs": [],
   "source": [
    "df = pd.read_csv('botak.csv')"
   ]
  },
  {
   "cell_type": "code",
   "execution_count": 5,
   "id": "d9e391af-1d3b-432c-8edf-c4202b966d6f",
   "metadata": {},
   "outputs": [
    {
     "data": {
      "text/html": [
       "<div>\n",
       "<style scoped>\n",
       "    .dataframe tbody tr th:only-of-type {\n",
       "        vertical-align: middle;\n",
       "    }\n",
       "\n",
       "    .dataframe tbody tr th {\n",
       "        vertical-align: top;\n",
       "    }\n",
       "\n",
       "    .dataframe thead th {\n",
       "        text-align: right;\n",
       "    }\n",
       "</style>\n",
       "<table border=\"1\" class=\"dataframe\">\n",
       "  <thead>\n",
       "    <tr style=\"text-align: right;\">\n",
       "      <th></th>\n",
       "      <th>umur</th>\n",
       "      <th>jenis_kelamin</th>\n",
       "      <th>pekerjaan</th>\n",
       "      <th>provinsi</th>\n",
       "      <th>gaji</th>\n",
       "      <th>is_menikah</th>\n",
       "      <th>is_keturunan</th>\n",
       "      <th>berat</th>\n",
       "      <th>tinggi</th>\n",
       "      <th>sampo</th>\n",
       "      <th>is_merokok</th>\n",
       "      <th>pendidikan</th>\n",
       "      <th>botak_prob</th>\n",
       "    </tr>\n",
       "  </thead>\n",
       "  <tbody>\n",
       "    <tr>\n",
       "      <th>7986</th>\n",
       "      <td>31.0</td>\n",
       "      <td>Laki-laki</td>\n",
       "      <td>Pegawai swasta</td>\n",
       "      <td>Padang</td>\n",
       "      <td>2.911963e+07</td>\n",
       "      <td>0</td>\n",
       "      <td>0.0</td>\n",
       "      <td>83.272785</td>\n",
       "      <td>176.020857</td>\n",
       "      <td>Merpati</td>\n",
       "      <td>0</td>\n",
       "      <td>SMA</td>\n",
       "      <td>0.241525</td>\n",
       "    </tr>\n",
       "    <tr>\n",
       "      <th>7987</th>\n",
       "      <td>40.0</td>\n",
       "      <td>Perempuan</td>\n",
       "      <td>Pegawai swasta</td>\n",
       "      <td>Banjarmasin</td>\n",
       "      <td>8.955173e+06</td>\n",
       "      <td>0</td>\n",
       "      <td>0.0</td>\n",
       "      <td>61.634474</td>\n",
       "      <td>161.780773</td>\n",
       "      <td>Deadbuoy</td>\n",
       "      <td>0</td>\n",
       "      <td>S1</td>\n",
       "      <td>0.140971</td>\n",
       "    </tr>\n",
       "    <tr>\n",
       "      <th>7988</th>\n",
       "      <td>43.0</td>\n",
       "      <td>Perempuan</td>\n",
       "      <td>PNS</td>\n",
       "      <td>Mataram</td>\n",
       "      <td>4.022652e+06</td>\n",
       "      <td>0</td>\n",
       "      <td>0.0</td>\n",
       "      <td>50.525031</td>\n",
       "      <td>152.461656</td>\n",
       "      <td>Shoulder &amp; Head</td>\n",
       "      <td>1</td>\n",
       "      <td>S1</td>\n",
       "      <td>0.364456</td>\n",
       "    </tr>\n",
       "    <tr>\n",
       "      <th>7989</th>\n",
       "      <td>29.0</td>\n",
       "      <td>Laki-laki</td>\n",
       "      <td>Pegawai swasta</td>\n",
       "      <td>Serang</td>\n",
       "      <td>5.801753e+06</td>\n",
       "      <td>0</td>\n",
       "      <td>0.0</td>\n",
       "      <td>47.175270</td>\n",
       "      <td>152.749709</td>\n",
       "      <td>NaN</td>\n",
       "      <td>1</td>\n",
       "      <td>SMA</td>\n",
       "      <td>0.248910</td>\n",
       "    </tr>\n",
       "    <tr>\n",
       "      <th>7990</th>\n",
       "      <td>55.0</td>\n",
       "      <td>Laki-laki</td>\n",
       "      <td>Pegawai swasta</td>\n",
       "      <td>Padang</td>\n",
       "      <td>8.518947e+06</td>\n",
       "      <td>0</td>\n",
       "      <td>1.0</td>\n",
       "      <td>61.938728</td>\n",
       "      <td>163.998842</td>\n",
       "      <td>Merpati</td>\n",
       "      <td>1</td>\n",
       "      <td>SMA</td>\n",
       "      <td>0.838493</td>\n",
       "    </tr>\n",
       "  </tbody>\n",
       "</table>\n",
       "</div>"
      ],
      "text/plain": [
       "      umur jenis_kelamin       pekerjaan     provinsi          gaji  \\\n",
       "7986  31.0     Laki-laki  Pegawai swasta       Padang  2.911963e+07   \n",
       "7987  40.0     Perempuan  Pegawai swasta  Banjarmasin  8.955173e+06   \n",
       "7988  43.0     Perempuan             PNS      Mataram  4.022652e+06   \n",
       "7989  29.0     Laki-laki  Pegawai swasta       Serang  5.801753e+06   \n",
       "7990  55.0     Laki-laki  Pegawai swasta       Padang  8.518947e+06   \n",
       "\n",
       "      is_menikah  is_keturunan      berat      tinggi            sampo  \\\n",
       "7986           0           0.0  83.272785  176.020857          Merpati   \n",
       "7987           0           0.0  61.634474  161.780773         Deadbuoy   \n",
       "7988           0           0.0  50.525031  152.461656  Shoulder & Head   \n",
       "7989           0           0.0  47.175270  152.749709              NaN   \n",
       "7990           0           1.0  61.938728  163.998842          Merpati   \n",
       "\n",
       "      is_merokok pendidikan  botak_prob  \n",
       "7986           0        SMA    0.241525  \n",
       "7987           0         S1    0.140971  \n",
       "7988           1         S1    0.364456  \n",
       "7989           1        SMA    0.248910  \n",
       "7990           1        SMA    0.838493  "
      ]
     },
     "execution_count": 5,
     "metadata": {},
     "output_type": "execute_result"
    }
   ],
   "source": [
    "df.tail()"
   ]
  },
  {
   "cell_type": "code",
   "execution_count": 7,
   "id": "79903178-a4e6-47d1-9ce6-14e688d7295e",
   "metadata": {},
   "outputs": [
    {
     "name": "stdout",
     "output_type": "stream",
     "text": [
      "<class 'pandas.core.frame.DataFrame'>\n",
      "RangeIndex: 7991 entries, 0 to 7990\n",
      "Data columns (total 13 columns):\n",
      " #   Column         Non-Null Count  Dtype  \n",
      "---  ------         --------------  -----  \n",
      " 0   umur           7991 non-null   float64\n",
      " 1   jenis_kelamin  7982 non-null   object \n",
      " 2   pekerjaan      7924 non-null   object \n",
      " 3   provinsi       7991 non-null   object \n",
      " 4   gaji           7968 non-null   float64\n",
      " 5   is_menikah     7991 non-null   int64  \n",
      " 6   is_keturunan   7976 non-null   float64\n",
      " 7   berat          7952 non-null   float64\n",
      " 8   tinggi         7991 non-null   float64\n",
      " 9   sampo          7934 non-null   object \n",
      " 10  is_merokok     7991 non-null   int64  \n",
      " 11  pendidikan     7991 non-null   object \n",
      " 12  botak_prob     7991 non-null   float64\n",
      "dtypes: float64(6), int64(2), object(5)\n",
      "memory usage: 811.7+ KB\n"
     ]
    }
   ],
   "source": [
    "df.info()"
   ]
  },
  {
   "cell_type": "code",
   "execution_count": 9,
   "id": "773e35fc-6247-489a-bdb4-e309acbf11e4",
   "metadata": {},
   "outputs": [
    {
     "data": {
      "text/html": [
       "<div>\n",
       "<style scoped>\n",
       "    .dataframe tbody tr th:only-of-type {\n",
       "        vertical-align: middle;\n",
       "    }\n",
       "\n",
       "    .dataframe tbody tr th {\n",
       "        vertical-align: top;\n",
       "    }\n",
       "\n",
       "    .dataframe thead th {\n",
       "        text-align: right;\n",
       "    }\n",
       "</style>\n",
       "<table border=\"1\" class=\"dataframe\">\n",
       "  <thead>\n",
       "    <tr style=\"text-align: right;\">\n",
       "      <th></th>\n",
       "      <th>umur</th>\n",
       "      <th>jenis_kelamin</th>\n",
       "      <th>pekerjaan</th>\n",
       "      <th>provinsi</th>\n",
       "      <th>gaji</th>\n",
       "      <th>is_menikah</th>\n",
       "      <th>is_keturunan</th>\n",
       "      <th>berat</th>\n",
       "      <th>tinggi</th>\n",
       "      <th>sampo</th>\n",
       "      <th>is_merokok</th>\n",
       "      <th>pendidikan</th>\n",
       "      <th>botak_prob</th>\n",
       "    </tr>\n",
       "  </thead>\n",
       "  <tbody>\n",
       "    <tr>\n",
       "      <th>5813</th>\n",
       "      <td>32.0</td>\n",
       "      <td>Laki-laki</td>\n",
       "      <td>Freelance</td>\n",
       "      <td>Medan</td>\n",
       "      <td>7.308660e+06</td>\n",
       "      <td>0</td>\n",
       "      <td>0.0</td>\n",
       "      <td>57.143750</td>\n",
       "      <td>163.363778</td>\n",
       "      <td>Merpati</td>\n",
       "      <td>0</td>\n",
       "      <td>SMA</td>\n",
       "      <td>0.168142</td>\n",
       "    </tr>\n",
       "    <tr>\n",
       "      <th>3189</th>\n",
       "      <td>43.0</td>\n",
       "      <td>Perempuan</td>\n",
       "      <td>PNS</td>\n",
       "      <td>Medan</td>\n",
       "      <td>1.231669e+07</td>\n",
       "      <td>0</td>\n",
       "      <td>0.0</td>\n",
       "      <td>54.561815</td>\n",
       "      <td>163.164627</td>\n",
       "      <td>Moonsilk</td>\n",
       "      <td>1</td>\n",
       "      <td>S1</td>\n",
       "      <td>0.400497</td>\n",
       "    </tr>\n",
       "    <tr>\n",
       "      <th>5466</th>\n",
       "      <td>18.0</td>\n",
       "      <td>Perempuan</td>\n",
       "      <td>Pegawai swasta</td>\n",
       "      <td>Ambon</td>\n",
       "      <td>3.497087e+06</td>\n",
       "      <td>0</td>\n",
       "      <td>0.0</td>\n",
       "      <td>54.490555</td>\n",
       "      <td>144.767957</td>\n",
       "      <td>Merpati</td>\n",
       "      <td>0</td>\n",
       "      <td>SMA</td>\n",
       "      <td>0.215420</td>\n",
       "    </tr>\n",
       "    <tr>\n",
       "      <th>2979</th>\n",
       "      <td>41.0</td>\n",
       "      <td>Laki-laki</td>\n",
       "      <td>PNS</td>\n",
       "      <td>Pontianak</td>\n",
       "      <td>5.723058e+06</td>\n",
       "      <td>0</td>\n",
       "      <td>0.0</td>\n",
       "      <td>83.960941</td>\n",
       "      <td>164.741468</td>\n",
       "      <td>Pantone</td>\n",
       "      <td>1</td>\n",
       "      <td>S1</td>\n",
       "      <td>0.553374</td>\n",
       "    </tr>\n",
       "    <tr>\n",
       "      <th>5958</th>\n",
       "      <td>35.0</td>\n",
       "      <td>Laki-laki</td>\n",
       "      <td>Pegawai swasta</td>\n",
       "      <td>Yogyakarta</td>\n",
       "      <td>7.232389e+06</td>\n",
       "      <td>0</td>\n",
       "      <td>1.0</td>\n",
       "      <td>51.563268</td>\n",
       "      <td>151.490589</td>\n",
       "      <td>Moonsilk</td>\n",
       "      <td>0</td>\n",
       "      <td>S1</td>\n",
       "      <td>0.518778</td>\n",
       "    </tr>\n",
       "  </tbody>\n",
       "</table>\n",
       "</div>"
      ],
      "text/plain": [
       "      umur jenis_kelamin       pekerjaan    provinsi          gaji  \\\n",
       "5813  32.0     Laki-laki       Freelance       Medan  7.308660e+06   \n",
       "3189  43.0     Perempuan             PNS       Medan  1.231669e+07   \n",
       "5466  18.0     Perempuan  Pegawai swasta       Ambon  3.497087e+06   \n",
       "2979  41.0     Laki-laki             PNS   Pontianak  5.723058e+06   \n",
       "5958  35.0     Laki-laki  Pegawai swasta  Yogyakarta  7.232389e+06   \n",
       "\n",
       "      is_menikah  is_keturunan      berat      tinggi     sampo  is_merokok  \\\n",
       "5813           0           0.0  57.143750  163.363778   Merpati           0   \n",
       "3189           0           0.0  54.561815  163.164627  Moonsilk           1   \n",
       "5466           0           0.0  54.490555  144.767957   Merpati           0   \n",
       "2979           0           0.0  83.960941  164.741468   Pantone           1   \n",
       "5958           0           1.0  51.563268  151.490589  Moonsilk           0   \n",
       "\n",
       "     pendidikan  botak_prob  \n",
       "5813        SMA    0.168142  \n",
       "3189         S1    0.400497  \n",
       "5466        SMA    0.215420  \n",
       "2979         S1    0.553374  \n",
       "5958         S1    0.518778  "
      ]
     },
     "execution_count": 9,
     "metadata": {},
     "output_type": "execute_result"
    }
   ],
   "source": [
    "df.sample(5)"
   ]
  },
  {
   "cell_type": "code",
   "execution_count": 11,
   "id": "f2dbffdf-81d7-42e1-b438-cb7647b58b60",
   "metadata": {},
   "outputs": [
    {
     "data": {
      "text/plain": [
       "count    7991.000000\n",
       "mean       39.604805\n",
       "std        10.014420\n",
       "min         3.000000\n",
       "25%        33.000000\n",
       "50%        40.000000\n",
       "75%        46.000000\n",
       "max        78.000000\n",
       "Name: umur, dtype: float64"
      ]
     },
     "execution_count": 11,
     "metadata": {},
     "output_type": "execute_result"
    }
   ],
   "source": [
    "df['umur'].describe()"
   ]
  },
  {
   "cell_type": "code",
   "execution_count": 13,
   "id": "c668904d-70a4-40db-835c-1f33ec36a493",
   "metadata": {},
   "outputs": [
    {
     "data": {
      "text/plain": [
       "count          7982\n",
       "unique            2\n",
       "top       Laki-laki\n",
       "freq           5342\n",
       "Name: jenis_kelamin, dtype: object"
      ]
     },
     "execution_count": 13,
     "metadata": {},
     "output_type": "execute_result"
    }
   ],
   "source": [
    "df['jenis_kelamin'].describe()"
   ]
  },
  {
   "cell_type": "code",
   "execution_count": 15,
   "id": "1e5a6170-0751-473b-9801-55062501b4bd",
   "metadata": {},
   "outputs": [
    {
     "data": {
      "text/plain": [
       "umur              0\n",
       "jenis_kelamin     9\n",
       "pekerjaan        67\n",
       "provinsi          0\n",
       "gaji             23\n",
       "is_menikah        0\n",
       "is_keturunan     15\n",
       "berat            39\n",
       "tinggi            0\n",
       "sampo            57\n",
       "is_merokok        0\n",
       "pendidikan        0\n",
       "botak_prob        0\n",
       "dtype: int64"
      ]
     },
     "execution_count": 15,
     "metadata": {},
     "output_type": "execute_result"
    }
   ],
   "source": [
    "df.isna().sum()"
   ]
  },
  {
   "cell_type": "code",
   "execution_count": 17,
   "id": "c0312cc2-7b1c-4ebe-b8be-5d85dcbf9b32",
   "metadata": {},
   "outputs": [],
   "source": [
    "# Mengisi nilai missing value dengan ketentuan:\n",
    "# Modus untuk data kategorik dan mean untuk data numerik\n",
    " \n",
    "from statistics import mode\n",
    " \n",
    "# Menghitung modus untuk data kategorik\n",
    "jenis_kelamin_mode = mode(df['jenis_kelamin'].dropna())\n",
    "pekerjaan_mode = mode(df['pekerjaan'].dropna())\n",
    "is_keturunan_mode = mode(df['is_keturunan'].dropna())\n",
    "sampo_mode = mode(df['sampo'].dropna())\n",
    " \n",
    "# Menghitung mean untuk data numerik\n",
    "berat_mean = df['berat'].mean()\n",
    "gaji_mean = df['gaji'].mean()\n",
    " \n",
    "# Daftar kolom yang memiliki nilai missing\n",
    "kolom_missing = ['jenis_kelamin', 'pekerjaan', \n",
    "                 'is_keturunan', 'berat', 'sampo', 'gaji']\n",
    " \n",
    "# Daftar nilai yang akan digunakan untuk mengisi missing values\n",
    "inputan = [jenis_kelamin_mode, pekerjaan_mode, \n",
    "           is_keturunan_mode, berat_mean, sampo_mode, gaji_mean]\n",
    " \n",
    "# Mengisi nilai missing dengan metode yang benar\n",
    "for kolom, nilai in zip(kolom_missing, inputan):\n",
    "    df[kolom] = df[kolom].fillna(nilai)"
   ]
  },
  {
   "cell_type": "code",
   "execution_count": 19,
   "id": "98e92321-aefe-481a-a44f-eee6ddb6d84d",
   "metadata": {},
   "outputs": [
    {
     "data": {
      "text/plain": [
       "umur             0\n",
       "jenis_kelamin    0\n",
       "pekerjaan        0\n",
       "provinsi         0\n",
       "gaji             0\n",
       "is_menikah       0\n",
       "is_keturunan     0\n",
       "berat            0\n",
       "tinggi           0\n",
       "sampo            0\n",
       "is_merokok       0\n",
       "pendidikan       0\n",
       "botak_prob       0\n",
       "dtype: int64"
      ]
     },
     "execution_count": 19,
     "metadata": {},
     "output_type": "execute_result"
    }
   ],
   "source": [
    "df.isna().sum()"
   ]
  },
  {
   "cell_type": "code",
   "execution_count": 21,
   "id": "d1f51453-66e5-43b4-af92-bd04d6de6356",
   "metadata": {},
   "outputs": [
    {
     "data": {
      "text/plain": [
       "101"
      ]
     },
     "execution_count": 21,
     "metadata": {},
     "output_type": "execute_result"
    }
   ],
   "source": [
    "#mengatasi duplicata data\n",
    "df.duplicated().sum()"
   ]
  },
  {
   "cell_type": "code",
   "execution_count": 23,
   "id": "5492b2ff-6e34-46ea-8d9e-a1ad2b0a01bc",
   "metadata": {},
   "outputs": [
    {
     "name": "stdout",
     "output_type": "stream",
     "text": [
      "<class 'pandas.core.frame.DataFrame'>\n",
      "Index: 7890 entries, 0 to 7989\n",
      "Data columns (total 13 columns):\n",
      " #   Column         Non-Null Count  Dtype  \n",
      "---  ------         --------------  -----  \n",
      " 0   umur           7890 non-null   float64\n",
      " 1   jenis_kelamin  7890 non-null   object \n",
      " 2   pekerjaan      7890 non-null   object \n",
      " 3   provinsi       7890 non-null   object \n",
      " 4   gaji           7890 non-null   float64\n",
      " 5   is_menikah     7890 non-null   int64  \n",
      " 6   is_keturunan   7890 non-null   float64\n",
      " 7   berat          7890 non-null   float64\n",
      " 8   tinggi         7890 non-null   float64\n",
      " 9   sampo          7890 non-null   object \n",
      " 10  is_merokok     7890 non-null   int64  \n",
      " 11  pendidikan     7890 non-null   object \n",
      " 12  botak_prob     7890 non-null   float64\n",
      "dtypes: float64(6), int64(2), object(5)\n",
      "memory usage: 863.0+ KB\n"
     ]
    }
   ],
   "source": [
    "df_hapus_duplikat = df.drop_duplicates()\n",
    "df_hapus_duplikat.info()"
   ]
  },
  {
   "cell_type": "code",
   "execution_count": null,
   "id": "a7d26053-dcdb-4347-9c4c-abb4ca40f3d7",
   "metadata": {},
   "outputs": [],
   "source": []
  }
 ],
 "metadata": {
  "kernelspec": {
   "display_name": "Python [conda env:base] *",
   "language": "python",
   "name": "conda-base-py"
  },
  "language_info": {
   "codemirror_mode": {
    "name": "ipython",
    "version": 3
   },
   "file_extension": ".py",
   "mimetype": "text/x-python",
   "name": "python",
   "nbconvert_exporter": "python",
   "pygments_lexer": "ipython3",
   "version": "3.12.7"
  }
 },
 "nbformat": 4,
 "nbformat_minor": 5
}
